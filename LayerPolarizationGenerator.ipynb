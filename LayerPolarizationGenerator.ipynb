{
 "cells": [
  {
   "cell_type": "code",
   "execution_count": 74,
   "metadata": {},
   "outputs": [],
   "source": [
    "import numpy as np\n",
    "from scipy.signal import savgol_filter\n",
    "from scipy.interpolate import interp1d\n",
    "from scipy import optimize\n",
    "import matplotlib.pyplot as plt\n",
    "#matplotlib.rc('font', **font)\n",
    "cstring = 'rgbcmyk'\n",
    "import matplotlib as ml\n",
    "%matplotlib inline\n",
    "ml.rcParams['figure.figsize'] = (8.0, 5.0)\n",
    "ml.rcParams['text.usetex'] =True\n",
    "ml.rc('font', family='serif',size=16)"
   ]
  },
  {
   "cell_type": "code",
   "execution_count": 75,
   "metadata": {},
   "outputs": [],
   "source": [
    "g0 = 3100\n",
    "g1 = 380\n",
    "g3 = 290\n",
    "g4 = 141\n",
    "Dtp = 10.5\n",
    "\n",
    "def getBMatrix(kx, ky, Dt, mu, xi):\n",
    "    v0 = 0.5 * np.sqrt(3) * g0\n",
    "    v3 = 0.5 * np.sqrt(3) * g3\n",
    "    v4 = 0.5 * np.sqrt(3) * g4\n",
    "    kx, ky = np.asarray(kx), np.asarray(ky)\n",
    "    p = xi * kx + ky * 1j\n",
    "    pc = xi * kx - ky * 1j\n",
    "    idt = np.ones(kx.shape, dtype=float)\n",
    "    Hl = np.array([[(-Dt - mu)*idt, v0 * pc, -v4 * pc, -v3 * p],\n",
    "                   [v0 * p, (-Dt + Dtp - mu) * idt, g1 * idt, -v4 * pc],\n",
    "                   [-v4 * p, g1 * idt, (Dt + Dtp - mu) * idt, v0 * pc],\n",
    "                   [-v3 * pc, v4 * p, v0 * p, (Dt - mu) * idt]])\n",
    "    return np.moveaxis(Hl, [0,1], [-2,-1])"
   ]
  },
  {
   "cell_type": "code",
   "execution_count": 85,
   "metadata": {},
   "outputs": [],
   "source": [
    "kmax = 0.15\n",
    "kr = np.linspace(-kmax,kmax, 1000)\n",
    "Dl=20\n",
    "KX, KY = np.meshgrid(kr, kr)\n",
    "w, v = np.linalg.eigh(getBMatrix(KX, KY, Dl, 0.0, 1))"
   ]
  },
  {
   "cell_type": "code",
   "execution_count": 86,
   "metadata": {},
   "outputs": [],
   "source": [
    "Sz = np.diag([1,1,-1,-1])\n",
    "SzMh = np.einsum('ijk, kl, ijl->ij', np.conj(v[:,:,:,1]), Sz, v[:,:,:,1])\n",
    "S0 = np.diag([1,1,1,1])\n",
    "S0Mh = np.einsum('ijk, kl, ijl->ij', np.conj(v[:,:,:,1]), S0, v[:,:,:,1])\n",
    "SzMlh = np.real(SzMh / S0Mh)"
   ]
  },
  {
   "cell_type": "code",
   "execution_count": 87,
   "metadata": {},
   "outputs": [],
   "source": [
    "Sz = np.diag([1,1,-1,-1])\n",
    "SzMe = np.einsum('ijk, kl, ijl->ij', np.conj(v[:,:,:,2]), Sz, v[:,:,:,2])\n",
    "S0 = np.diag([1,1,1,1])\n",
    "S0Me = np.einsum('ijk, kl, ijl->ij', np.conj(v[:,:,:,2]), S0, v[:,:,:,2])\n",
    "SzMle = np.real(SzMe / S0Me)"
   ]
  },
  {
   "cell_type": "code",
   "execution_count": 88,
   "metadata": {},
   "outputs": [],
   "source": [
    "SzMl = np.array([SzMlh, SzMle])"
   ]
  },
  {
   "cell_type": "code",
   "execution_count": 89,
   "metadata": {},
   "outputs": [],
   "source": [
    "mul = np.linspace(-150,150,40000,endpoint=True)\n",
    "Sp = np.zeros(mul.shape)\n",
    "indeh = 0\n",
    "for im, mull in np.ndenumerate(mul):\n",
    "    if np.abs(mull)<20:\n",
    "        indh = np.where(np.abs(w[:,:,1]-mull)<4e-3)\n",
    "        inde = np.where(np.abs(w[:,:,2]-mull)<4e-3)\n",
    "        if len(inde[0]) > len(inde[1]):\n",
    "            ind = inde \n",
    "            indeh = 1\n",
    "        else:\n",
    "            ind = indh\n",
    "            indeh = 0\n",
    "    elif mull<0:\n",
    "        ind = np.where(np.abs(w[:,:,1]-mull)<4e-3)\n",
    "        indeh = 0\n",
    "    else:\n",
    "        ind = np.where(np.abs(w[:,:,2]-mull)<4e-3)\n",
    "        indeh = 1\n",
    "    Sp[im] = np.mean(SzMl[indeh, ind[0],ind[1]]) if len(ind[0]>0) else None"
   ]
  },
  {
   "cell_type": "code",
   "execution_count": 90,
   "metadata": {},
   "outputs": [],
   "source": [
    "from scipy.signal import savgol_filter\n",
    "Sps = savgol_filter(Sp, 81, 3)"
   ]
  },
  {
   "cell_type": "code",
   "execution_count": 92,
   "metadata": {},
   "outputs": [
    {
     "data": {
      "text/plain": [
       "[<matplotlib.lines.Line2D at 0x7f262d9c73c8>]"
      ]
     },
     "execution_count": 92,
     "metadata": {},
     "output_type": "execute_result"
    },
    {
     "data": {
      "image/png": "[encoded data removed]",
      "text/plain": [
       "<Figure size 576x360 with 1 Axes>"
      ]
     },
     "metadata": {
      "needs_background": "light"
     },
     "output_type": "display_data"
    }
   ],
   "source": [
    "plt.plot(mul, Sps)\n",
    "#plt.plot(mul, Sp)\n",
    "#plt.xlim([-150,-100])"
   ]
  },
  {
   "cell_type": "code",
   "execution_count": 66,
   "metadata": {},
   "outputs": [
    {
     "data": {
      "image/png": "[encoded data removed]",
      "text/plain": [
       "<Figure size 504x360 with 1 Axes>"
      ]
     },
     "metadata": {
      "needs_background": "light"
     },
     "output_type": "display_data"
    }
   ],
   "source": [
    "ml.rcParams['figure.figsize'] = (7.0, 5.0)\n",
    "ml.rcParams['contour.negative_linestyle']= 'solid'\n",
    "mul=-150\n",
    "fig, ax= plt.subplots(1,1)\n",
    "ax.contour(KX, KY, w[:,:,1],[mul],colors='b')\n",
    "#ax.set(adjustable='box', aspect='equal')\n",
    "plt.tight_layout()\n",
    "plt.show()"
   ]
  },
  {
   "cell_type": "code",
   "execution_count": 94,
   "metadata": {},
   "outputs": [
    {
     "name": "stdout",
     "output_type": "stream",
     "text": [
      "/home/aghazary/Documents/MyWorks/BilayerGraphene/PythonCode\r\n"
     ]
    }
   ],
   "source": [
    "!pwd"
   ]
  },
  {
   "cell_type": "code",
   "execution_count": 96,
   "metadata": {},
   "outputs": [
    {
     "ename": "OSError",
     "evalue": "Failed to interpret file <_io.BufferedReader name='SpDataBilayer.npy'> as a pickle",
     "output_type": "error",
     "traceback": [
      "\u001b[0;31m---------------------------------------------------------------------------\u001b[0m",
      "\u001b[0;31mEOFError\u001b[0m                                  Traceback (most recent call last)",
      "\u001b[0;32m/usr/local/lib/python3.6/dist-packages/numpy/lib/npyio.py\u001b[0m in \u001b[0;36mload\u001b[0;34m(file, mmap_mode, allow_pickle, fix_imports, encoding)\u001b[0m\n\u001b[1;32m    459\u001b[0m             \u001b[0;32mtry\u001b[0m\u001b[0;34m:\u001b[0m\u001b[0;34m\u001b[0m\u001b[0;34m\u001b[0m\u001b[0m\n\u001b[0;32m--> 460\u001b[0;31m                 \u001b[0;32mreturn\u001b[0m \u001b[0mpickle\u001b[0m\u001b[0;34m.\u001b[0m\u001b[0mload\u001b[0m\u001b[0;34m(\u001b[0m\u001b[0mfid\u001b[0m\u001b[0;34m,\u001b[0m \u001b[0;34m**\u001b[0m\u001b[0mpickle_kwargs\u001b[0m\u001b[0;34m)\u001b[0m\u001b[0;34m\u001b[0m\u001b[0;34m\u001b[0m\u001b[0m\n\u001b[0m\u001b[1;32m    461\u001b[0m             \u001b[0;32mexcept\u001b[0m \u001b[0mException\u001b[0m\u001b[0;34m:\u001b[0m\u001b[0;34m\u001b[0m\u001b[0;34m\u001b[0m\u001b[0m\n",
      "\u001b[0;31mEOFError\u001b[0m: Ran out of input",
      "\nDuring handling of the above exception, another exception occurred:\n",
      "\u001b[0;31mOSError\u001b[0m                                   Traceback (most recent call last)",
      "\u001b[0;32m<ipython-input-96-ba41122c3c01>\u001b[0m in \u001b[0;36m<module>\u001b[0;34m\u001b[0m\n\u001b[1;32m      1\u001b[0m \u001b[0;32mwith\u001b[0m \u001b[0mopen\u001b[0m\u001b[0;34m(\u001b[0m\u001b[0;34m'SpDataBilayer.npy'\u001b[0m\u001b[0;34m,\u001b[0m \u001b[0;34m'rb'\u001b[0m\u001b[0;34m)\u001b[0m \u001b[0;32mas\u001b[0m \u001b[0mf\u001b[0m\u001b[0;34m:\u001b[0m\u001b[0;34m\u001b[0m\u001b[0;34m\u001b[0m\u001b[0m\n\u001b[0;32m----> 2\u001b[0;31m     \u001b[0mSpl\u001b[0m \u001b[0;34m=\u001b[0m \u001b[0mnp\u001b[0m\u001b[0;34m.\u001b[0m\u001b[0mload\u001b[0m\u001b[0;34m(\u001b[0m\u001b[0mf\u001b[0m\u001b[0;34m,\u001b[0m\u001b[0mallow_pickle\u001b[0m\u001b[0;34m=\u001b[0m\u001b[0;32mTrue\u001b[0m\u001b[0;34m)\u001b[0m\u001b[0;34m\u001b[0m\u001b[0;34m\u001b[0m\u001b[0m\n\u001b[0m",
      "\u001b[0;32m/usr/local/lib/python3.6/dist-packages/numpy/lib/npyio.py\u001b[0m in \u001b[0;36mload\u001b[0;34m(file, mmap_mode, allow_pickle, fix_imports, encoding)\u001b[0m\n\u001b[1;32m    461\u001b[0m             \u001b[0;32mexcept\u001b[0m \u001b[0mException\u001b[0m\u001b[0;34m:\u001b[0m\u001b[0;34m\u001b[0m\u001b[0;34m\u001b[0m\u001b[0m\n\u001b[1;32m    462\u001b[0m                 raise IOError(\n\u001b[0;32m--> 463\u001b[0;31m                     \"Failed to interpret file %s as a pickle\" % repr(file))\n\u001b[0m\u001b[1;32m    464\u001b[0m     \u001b[0;32mfinally\u001b[0m\u001b[0;34m:\u001b[0m\u001b[0;34m\u001b[0m\u001b[0;34m\u001b[0m\u001b[0m\n\u001b[1;32m    465\u001b[0m         \u001b[0;32mif\u001b[0m \u001b[0mown_fid\u001b[0m\u001b[0;34m:\u001b[0m\u001b[0;34m\u001b[0m\u001b[0;34m\u001b[0m\u001b[0m\n",
      "\u001b[0;31mOSError\u001b[0m: Failed to interpret file <_io.BufferedReader name='SpDataBilayer.npy'> as a pickle"
     ]
    }
   ],
   "source": [
    "with open('SpDataBilayer.npy', 'rb') as f:\n",
    "    Spl = np.load(f,allow_pickle=True)"
   ]
  },
  {
   "cell_type": "code",
   "execution_count": null,
   "metadata": {},
   "outputs": [],
   "source": []
  }
 ],
 "metadata": {
  "kernelspec": {
   "display_name": "Python 3",
   "language": "python",
   "name": "python3"
  },
  "language_info": {
   "codemirror_mode": {
    "name": "ipython",
    "version": 3
   },
   "file_extension": ".py",
   "mimetype": "text/x-python",
   "name": "python",
   "nbconvert_exporter": "python",
   "pygments_lexer": "ipython3",
   "version": "3.6.9"
  }
 },
 "nbformat": 4,
 "nbformat_minor": 4
}
