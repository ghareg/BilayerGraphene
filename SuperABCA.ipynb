{
 "cells": [
  {
   "cell_type": "code",
   "execution_count": 119,
   "metadata": {},
   "outputs": [],
   "source": [
    "import numpy as np\n",
    "import matplotlib.pyplot as plt\n",
    "import matplotlib as ml\n",
    "from scipy import optimize\n",
    "%matplotlib inline\n",
    "ml.rcParams['figure.figsize'] = (8.0, 5.0)\n",
    "ml.rcParams['text.usetex'] =True\n",
    "ml.rc('font', family='serif',size=16)"
   ]
  },
  {
   "cell_type": "code",
   "execution_count": 120,
   "metadata": {},
   "outputs": [],
   "source": [
    "g0 = 3100\n",
    "g1 = 380\n",
    "g3 = 290\n",
    "g4 = 141\n",
    "g2 = -15\n",
    "g5 = 50\n",
    "Dt2 = 0.0#-2.3\n",
    "Dt3=0.0\n",
    "Dtp = 10.5"
   ]
  },
  {
   "cell_type": "code",
   "execution_count": 121,
   "metadata": {},
   "outputs": [],
   "source": [
    "def getBMatrixABCA(kx, ky, Dt, mu, xi):\n",
    "    v0 = 0.5 * np.sqrt(3) * g0\n",
    "    v3 = 0.5 * np.sqrt(3) * g3\n",
    "    v4 = 0.5 * np.sqrt(3) * g4\n",
    "    kx, ky = np.asarray(kx), np.asarray(ky)\n",
    "    p = xi * kx + ky * 1j\n",
    "    pc = xi * kx - ky * 1j\n",
    "    idt = np.ones(kx.shape, dtype=float)\n",
    "    Hl = np.array([[(Dt + Dt2 - mu)*idt, v0*pc, -v4*pc, -v3*p, 0*idt, 0.5*g2*idt, 0*idt, 0*idt],\n",
    "                   [v0*p, (Dt + Dt2 + Dtp - mu)*idt, g1*idt, -v4*pc, 0*idt, 0*idt, 0*idt, 0*idt],\n",
    "                   [-v4*p, g1*idt, (Dt/3 - Dt3 - Dt2 + Dtp - mu)*idt, v0*pc, -v4*pc, -v3*p, 0*idt, 0.5*g2*idt],\n",
    "                   [-v3*pc, -v4 * p, v0*p, (Dt/3 - Dt3 - Dt2 + Dtp - mu)*idt, g1*idt, -v4*pc, 0*idt, 0*idt],\n",
    "                   [0*idt, 0*idt, -v4*p, g1*idt,(-Dt/3 + Dt3 - Dt2 + Dtp - mu)*idt, v0*pc, -v4*pc, -v3*p],\n",
    "                   [0.5*g2*idt, 0*idt, -v3*pc, -v4*p, v0*p, (-Dt/3 + Dt3 - Dt2 + Dtp - mu)*idt, g1*idt, -v4*pc],\n",
    "                   [0*idt, 0*idt, 0*idt, 0*idt, -v4*p, g1*idt, (Dt2 - Dt + Dtp - mu)*idt, v0*pc],\n",
    "                   [0*idt, 0*idt, 0.5*g2*idt, 0*idt, -v3*pc, -v4*p, v0*p, (Dt2 - Dt - mu)*idt]])\n",
    "    return np.moveaxis(Hl, [0,1], [-2,-1])"
   ]
  },
  {
   "cell_type": "code",
   "execution_count": 122,
   "metadata": {},
   "outputs": [],
   "source": [
    "def getVMatrix(xi, xy):\n",
    "    v0 = 0.5 * np.sqrt(3) * g0\n",
    "    v3 = 0.5 * np.sqrt(3) * g3\n",
    "    v4 = 0.5 * np.sqrt(3) * g4\n",
    "    p = xi if xy else 1j\n",
    "    pc = xi if xy else -1j\n",
    "    Vl = np.array([[0, v0*pc, -v4*pc, -v3*p, 0, 0, 0, 0],\n",
    "                   [v0*p, 0, 0, -v4*pc, 0, 0, 0, 0],\n",
    "                   [-v4*p, 0, 0, v0*pc, -v4*pc, -v3*p, 0, 0],\n",
    "                   [-v3*pc, -v4 * p, v0*p, 0, 0, -v4*pc, 0, 0],\n",
    "                   [0, 0, -v4*p, 0, 0, v0*pc, -v4*pc, -v3*p],\n",
    "                   [0, 0, -v3*pc, -v4*p, v0*p, 0, 0, -v4*pc],\n",
    "                   [0, 0, 0, 0, -v4*p, 0, 0, v0*pc],\n",
    "                   [0, 0, 0, 0, -v3*pc, -v4*p, v0*p, 0]])\n",
    "    return np.moveaxis(Vl, [0,1], [-2,-1])"
   ]
  },
  {
   "cell_type": "code",
   "execution_count": 123,
   "metadata": {},
   "outputs": [],
   "source": [
    "def xi(kx, ky, en, fdl,kmin):\n",
    "    if np.abs(kx**2+ky**2)<kmin:\n",
    "        kx=kmin\n",
    "        ky=0.0\n",
    "        ikx = np.where(kx/2-kr<=0)[0][0]\n",
    "        iky = np.where(ky/2-kr<=0)[0][0]\n",
    "    else:\n",
    "        ikx = np.where(kx/2-kr<=0)[0][0]\n",
    "        iky = np.where(ky/2-kr<=0)[0][0]\n",
    "        ikx = ikx if np.abs(kx/2-kr[ikx]) < np.abs(kx/2-kr[ikx-1]) or ikx==0 else ikx-1\n",
    "        iky = iky if np.abs(ky/2-kr[iky]) < np.abs(ky/2-kr[iky-1]) or iky==0 else iky-1\n",
    "    indsx = Nmax-2*ikx if Nmax-2*ikx>=0 else 2*ikx-Nmax \n",
    "    indsy = Nmax-2*iky if Nmax-2*iky>=0 else 2*iky-Nmax\n",
    "    index = 2*ikx if Nmax-2*ikx>=0 else 2*(Nmax-ikx)\n",
    "    indey = 2*iky if Nmax-2*iky>=0 else 2*(Nmax-iky)\n",
    "    return (st**2/(2*np.pi)**2)*np.sum((fdl[indsx:,indsy:]-fdl[0:index,0:indey])/\n",
    "                   (en[indsx:,indsy:]-en[0:index,0:indey]+1e-12j))\n",
    "\n",
    "def xiw(kx, ky, en, ev, fdl, kmin):\n",
    "    if np.abs(kx**2+ky**2)<kmin:\n",
    "        kx=kmin\n",
    "        ky=0.0\n",
    "        ikx = np.where(kx/2-kr<=0)[0][0]\n",
    "        iky = np.where(ky/2-kr<=0)[0][0]\n",
    "    else:\n",
    "        ikx = np.where(kx/2-kr<=0)[0][0]\n",
    "        iky = np.where(ky/2-kr<=0)[0][0]\n",
    "        ikx = ikx if np.abs(kx/2-kr[ikx]) < np.abs(kx/2-kr[ikx-1]) or ikx==0 else ikx-1\n",
    "        iky = iky if np.abs(ky/2-kr[iky]) < np.abs(ky/2-kr[iky-1]) or iky==0 else iky-1\n",
    "    indsx = Nmax-2*ikx if Nmax-2*ikx>=0 else 2*ikx-Nmax \n",
    "    indsy = Nmax-2*iky if Nmax-2*iky>=0 else 2*iky-Nmax\n",
    "    index = 2*ikx if Nmax-2*ikx>=0 else 2*(Nmax-ikx)\n",
    "    indey = 2*iky if Nmax-2*iky>=0 else 2*(Nmax-iky)\n",
    "    wv = np.abs(np.einsum('ijk, ijk->ij', np.conj(ev[indsx:,indsy:]), ev[0:index,0:indey]))**2\n",
    "    return (st**2/(2*np.pi)**2)*np.sum(wv*(fdl[indsx:,indsy:]-fdl[0:index,0:indey])/\n",
    "                   (en[indsx:,indsy:]-en[0:index,0:indey]+1e-12j))\n",
    "\n",
    "def xig(kx, ky, enb, env, fdl, kmin):\n",
    "    if WaveFunc:\n",
    "        return xiw(kx, ky, enb, env, fdl, kmin)\n",
    "    else :\n",
    "        return xi(kx, ky, enb, fdl,kmin)\n",
    "\n",
    "def FD(en, mu, T):\n",
    "    return 0.5*(1-np.tanh((en-mu)/(2*T)))\n",
    "\n",
    "def DOS(en, mu, T):\n",
    "    dmu = 0.001\n",
    "    return (st**2/(2*np.pi)**2)*np.sum((FD(en,mu+dmu,T)-FD(en,mu-dmu,T))/(2*dmu))"
   ]
  },
  {
   "cell_type": "code",
   "execution_count": 124,
   "metadata": {},
   "outputs": [],
   "source": [
    "Dl=60\n",
    "Nmax=800\n",
    "kmax=0.20\n",
    "Tc = 0.015\n",
    "WaveFunc = False"
   ]
  },
  {
   "cell_type": "code",
   "execution_count": 125,
   "metadata": {
    "scrolled": true
   },
   "outputs": [],
   "source": [
    "kr, st = np.linspace(-kmax,kmax, Nmax, retstep=True, endpoint=False)\n",
    "KY, KX = np.meshgrid(kr, kr)\n",
    "w, v = np.linalg.eigh(getBMatrixABCA(KX, KY, Dl, 0.0, 1))"
   ]
  },
  {
   "cell_type": "code",
   "execution_count": 66,
   "metadata": {},
   "outputs": [],
   "source": [
    "muc=56.85\n",
    "fdl = FD(w[:,:,4],muc,Tc)\n",
    "dsl = DOS(w[:,:,4],muc,Tc)\n",
    "enb = w[:,:,4]\n",
    "env = v[:,:,:,4]"
   ]
  },
  {
   "cell_type": "code",
   "execution_count": 131,
   "metadata": {},
   "outputs": [
    {
     "data": {
      "text/plain": [
       "(-0.15, 0.15)"
      ]
     },
     "execution_count": 131,
     "metadata": {},
     "output_type": "execute_result"
    },
    {
     "data": {
      "image/png": "[encoded data removed]",
      "text/plain": [
       "<Figure size 360x360 with 1 Axes>"
      ]
     },
     "metadata": {
      "needs_background": "light"
     },
     "output_type": "display_data"
    }
   ],
   "source": [
    "ml.rcParams['figure.figsize'] = (5.0, 5.0)\n",
    "plt.contour(KX,KY,w[:,:,4], [60.06])\n",
    "67.45\n",
    "#ko=k00\n",
    "#plt.scatter(ko[:,1].astype(float)*np.cos(ko[:,0].astype(float)), ko[:,1].astype(float)*np.sin(ko[:,0].astype(float)))\n",
    "#plt.scatter(k00[NFS//2,1],0)\n",
    "#plt.scatter(kxlr[1,1]*np.cos(kxlr[1,0]),0)\n",
    "plt.xlim([-0.15,0.15])\n",
    "plt.ylim([-0.15,0.15])"
   ]
  },
  {
   "cell_type": "code",
   "execution_count": 13,
   "metadata": {},
   "outputs": [],
   "source": [
    "kmin=4e-8\n",
    "kx=np.linspace(0.0,0.2,500)\n",
    "WaveFunc = False\n",
    "xilx=np.array([-np.real(xig(kxl,0,enb,env,fdl,kmin)) for kxl in kx])\n",
    "xily=np.array([-np.real(xig(0,kxl,enb,env,fdl,kmin)) for kxl in kx])"
   ]
  },
  {
   "cell_type": "code",
   "execution_count": 14,
   "metadata": {},
   "outputs": [
    {
     "data": {
      "image/png": "[encoded data removed]",
      "text/plain": [
       "<Figure size 576x396 with 1 Axes>"
      ]
     },
     "metadata": {
      "needs_background": "light"
     },
     "output_type": "display_data"
    }
   ],
   "source": [
    "ml.rcParams['figure.figsize'] = (8.0, 5.5)\n",
    "plt.plot(kx,xilx/dsl, label=r'$k_x$ direction')\n",
    "plt.plot(kx,xily/dsl, label=r'$k_y$ direction')\n",
    "plt.xlabel(r'$ka$')\n",
    "plt.ylabel(r'$\\chi(\\mathbf{k})/\\rho$')\n",
    "plt.legend()\n",
    "plt.show()"
   ]
  },
  {
   "cell_type": "code",
   "execution_count": 34,
   "metadata": {},
   "outputs": [],
   "source": [
    "a=2.46\n",
    "\n",
    "def Veff(kx,ky, eps, d):\n",
    "    kx, ky = np.asarray(kx), np.asarray(ky)\n",
    "    Vamp = 4.8**2*10**3/(1.6*eps*a)\n",
    "    kabs = np.sqrt(kx**2+ky**2)\n",
    "    ind = np.where(kabs<1e-6)\n",
    "    kabs[ind[0], ind[1]]=1e-6\n",
    "    return 2*np.pi*Vamp*np.tanh(kabs*d)/(kabs)"
   ]
  },
  {
   "cell_type": "code",
   "execution_count": 35,
   "metadata": {},
   "outputs": [],
   "source": [
    "def func(k,th, Dt1, mu):\n",
    "    w =np.linalg.eigvalsh(getBMatrixABCA(k*np.cos(th), k*np.sin(th), Dt1, mu, 1))\n",
    "    return w[4]\n",
    "\n",
    "def func1(k0x, k0y, k, th, Dt1, mu):\n",
    "    w =np.linalg.eigvalsh(getBMatrixABCA(k0x+k*np.cos(th), k0y+k*np.sin(th), Dt1, mu, 1))\n",
    "    return w[4]\n",
    "\n",
    "def catch(func, *args, **kwargs):\n",
    "    try:\n",
    "        return func(*args, **kwargs)\n",
    "    except RuntimeError:\n",
    "        return None\n",
    "    except ValueError:\n",
    "        return None"
   ]
  },
  {
   "cell_type": "code",
   "execution_count": 36,
   "metadata": {},
   "outputs": [],
   "source": [
    "def findNext(ind, kxl, kyl, dkm):\n",
    "    kx = kxl[ind]\n",
    "    ky = kyl[ind]\n",
    "    inds=np.where(np.sqrt((kx-kxl)**2+(ky-kyl)**2)>dkm)[0]\n",
    "    indl=np.where(inds-ind>0)[0]\n",
    "    if len(indl)>0:\n",
    "        return inds[indl[0]]\n",
    "    else:\n",
    "        return None\n",
    "    \n",
    "def findAll(kxl, kyl, dkm):\n",
    "    indl=[0]\n",
    "    indi=findNext(indl[-1], kxl, kyl, dkm)\n",
    "    while indi!=None:\n",
    "        indl.append(indi)\n",
    "        indi=findNext(indl[-1], kxl, kyl, dkm)\n",
    "    if np.sqrt((kxl[indl[-1]]-kxl[indl[0]])**2 + (kyl[indl[-1]]-kyl[indl[0]])**2)<dkm/2:\n",
    "        indl.pop()\n",
    "    return kxl[indl], kyl[indl],indl"
   ]
  },
  {
   "cell_type": "code",
   "execution_count": 191,
   "metadata": {},
   "outputs": [
    {
     "data": {
      "text/plain": [
       "<matplotlib.collections.PathCollection at 0x7f19694903c8>"
      ]
     },
     "execution_count": 191,
     "metadata": {},
     "output_type": "execute_result"
    },
    {
     "data": {
      "image/png": "[encoded data removed]",
      "text/plain": [
       "<Figure size 360x360 with 1 Axes>"
      ]
     },
     "metadata": {
      "needs_background": "light"
     },
     "output_type": "display_data"
    }
   ],
   "source": [
    "ml.rcParams['figure.figsize'] = (5.0, 5.0)\n",
    "ko=k21\n",
    "plt.scatter(ko[:,1].astype(float)*np.cos(ko[:,0].astype(float)), ko[:,1].astype(float)*np.sin(ko[:,0].astype(float)))"
   ]
  },
  {
   "cell_type": "code",
   "execution_count": 167,
   "metadata": {},
   "outputs": [
    {
     "ename": "ValueError",
     "evalue": "f(a) and f(b) must have different signs",
     "output_type": "error",
     "traceback": [
      "\u001b[0;31m---------------------------------------------------------------------------\u001b[0m",
      "\u001b[0;31mValueError\u001b[0m                                Traceback (most recent call last)",
      "\u001b[0;32m<ipython-input-167-407c76be423f>\u001b[0m in \u001b[0;36m<module>\u001b[0;34m\u001b[0m\n\u001b[0;32m----> 1\u001b[0;31m \u001b[0moptimize\u001b[0m\u001b[0;34m.\u001b[0m\u001b[0mbrentq\u001b[0m\u001b[0;34m(\u001b[0m\u001b[0;32mlambda\u001b[0m \u001b[0mk\u001b[0m\u001b[0;34m:\u001b[0m\u001b[0mfunc1\u001b[0m\u001b[0;34m(\u001b[0m\u001b[0mkc\u001b[0m\u001b[0;34m,\u001b[0m\u001b[0;36m0\u001b[0m\u001b[0;34m,\u001b[0m\u001b[0mk\u001b[0m\u001b[0;34m,\u001b[0m\u001b[0mnp\u001b[0m\u001b[0;34m.\u001b[0m\u001b[0mpi\u001b[0m\u001b[0;34m/\u001b[0m\u001b[0;36m2\u001b[0m\u001b[0;34m,\u001b[0m \u001b[0mDl\u001b[0m\u001b[0;34m,\u001b[0m \u001b[0mmuc\u001b[0m\u001b[0;34m)\u001b[0m\u001b[0;34m,\u001b[0m \u001b[0;36m0.0\u001b[0m\u001b[0;34m,\u001b[0m\u001b[0;36m0.1\u001b[0m\u001b[0;34m)\u001b[0m\u001b[0;34m\u001b[0m\u001b[0;34m\u001b[0m\u001b[0m\n\u001b[0m",
      "\u001b[0;32m~/.local/lib/python3.6/site-packages/scipy/optimize/zeros.py\u001b[0m in \u001b[0;36mbrentq\u001b[0;34m(f, a, b, args, xtol, rtol, maxiter, full_output, disp)\u001b[0m\n\u001b[1;32m    774\u001b[0m     \u001b[0;32mif\u001b[0m \u001b[0mrtol\u001b[0m \u001b[0;34m<\u001b[0m \u001b[0m_rtol\u001b[0m\u001b[0;34m:\u001b[0m\u001b[0;34m\u001b[0m\u001b[0;34m\u001b[0m\u001b[0m\n\u001b[1;32m    775\u001b[0m         \u001b[0;32mraise\u001b[0m \u001b[0mValueError\u001b[0m\u001b[0;34m(\u001b[0m\u001b[0;34m\"rtol too small (%g < %g)\"\u001b[0m \u001b[0;34m%\u001b[0m \u001b[0;34m(\u001b[0m\u001b[0mrtol\u001b[0m\u001b[0;34m,\u001b[0m \u001b[0m_rtol\u001b[0m\u001b[0;34m)\u001b[0m\u001b[0;34m)\u001b[0m\u001b[0;34m\u001b[0m\u001b[0;34m\u001b[0m\u001b[0m\n\u001b[0;32m--> 776\u001b[0;31m     \u001b[0mr\u001b[0m \u001b[0;34m=\u001b[0m \u001b[0m_zeros\u001b[0m\u001b[0;34m.\u001b[0m\u001b[0m_brentq\u001b[0m\u001b[0;34m(\u001b[0m\u001b[0mf\u001b[0m\u001b[0;34m,\u001b[0m \u001b[0ma\u001b[0m\u001b[0;34m,\u001b[0m \u001b[0mb\u001b[0m\u001b[0;34m,\u001b[0m \u001b[0mxtol\u001b[0m\u001b[0;34m,\u001b[0m \u001b[0mrtol\u001b[0m\u001b[0;34m,\u001b[0m \u001b[0mmaxiter\u001b[0m\u001b[0;34m,\u001b[0m \u001b[0margs\u001b[0m\u001b[0;34m,\u001b[0m \u001b[0mfull_output\u001b[0m\u001b[0;34m,\u001b[0m \u001b[0mdisp\u001b[0m\u001b[0;34m)\u001b[0m\u001b[0;34m\u001b[0m\u001b[0;34m\u001b[0m\u001b[0m\n\u001b[0m\u001b[1;32m    777\u001b[0m     \u001b[0;32mreturn\u001b[0m \u001b[0mresults_c\u001b[0m\u001b[0;34m(\u001b[0m\u001b[0mfull_output\u001b[0m\u001b[0;34m,\u001b[0m \u001b[0mr\u001b[0m\u001b[0;34m)\u001b[0m\u001b[0;34m\u001b[0m\u001b[0;34m\u001b[0m\u001b[0m\n\u001b[1;32m    778\u001b[0m \u001b[0;34m\u001b[0m\u001b[0m\n",
      "\u001b[0;31mValueError\u001b[0m: f(a) and f(b) must have different signs"
     ]
    }
   ],
   "source": [
    " optimize.brentq(lambda k:func1(kc,0,k,np.pi/2, Dl, muc), 0.0,0.1)"
   ]
  },
  {
   "cell_type": "code",
   "execution_count": 54,
   "metadata": {},
   "outputs": [
    {
     "ename": "NameError",
     "evalue": "name 'th' is not defined",
     "output_type": "error",
     "traceback": [
      "\u001b[0;31m---------------------------------------------------------------------------\u001b[0m",
      "\u001b[0;31mNameError\u001b[0m                                 Traceback (most recent call last)",
      "\u001b[0;32m<ipython-input-54-fc42ba619356>\u001b[0m in \u001b[0;36m<module>\u001b[0;34m\u001b[0m\n\u001b[0;32m----> 1\u001b[0;31m \u001b[0mth\u001b[0m\u001b[0;34m\u001b[0m\u001b[0;34m\u001b[0m\u001b[0m\n\u001b[0m",
      "\u001b[0;31mNameError\u001b[0m: name 'th' is not defined"
     ]
    }
   ],
   "source": [
    "th"
   ]
  },
  {
   "cell_type": "code",
   "execution_count": 101,
   "metadata": {},
   "outputs": [],
   "source": [
    "NFS = 100\n",
    "Dl=69\n",
    "muc=68.69\n",
    "mlt=0.05\n",
    "cutoff=5*st"
   ]
  },
  {
   "cell_type": "code",
   "execution_count": 102,
   "metadata": {},
   "outputs": [
    {
     "ename": "TypeError",
     "evalue": "unsupported operand type(s) for -: 'NoneType' and 'float'",
     "output_type": "error",
     "traceback": [
      "\u001b[0;31m---------------------------------------------------------------------------\u001b[0m",
      "\u001b[0;31mTypeError\u001b[0m                                 Traceback (most recent call last)",
      "\u001b[0;32m<ipython-input-102-27702b26b64d>\u001b[0m in \u001b[0;36m<module>\u001b[0;34m\u001b[0m\n\u001b[1;32m     10\u001b[0m \u001b[0;32melse\u001b[0m\u001b[0;34m:\u001b[0m\u001b[0;34m\u001b[0m\u001b[0;34m\u001b[0m\u001b[0m\n\u001b[1;32m     11\u001b[0m     \u001b[0;32mtry\u001b[0m\u001b[0;34m:\u001b[0m\u001b[0;34m\u001b[0m\u001b[0;34m\u001b[0m\u001b[0m\n\u001b[0;32m---> 12\u001b[0;31m         \u001b[0moptimize\u001b[0m\u001b[0;34m.\u001b[0m\u001b[0mbrentq\u001b[0m\u001b[0;34m(\u001b[0m\u001b[0;32mlambda\u001b[0m \u001b[0mk\u001b[0m\u001b[0;34m:\u001b[0m\u001b[0mfunc\u001b[0m\u001b[0;34m(\u001b[0m\u001b[0mk\u001b[0m\u001b[0;34m,\u001b[0m\u001b[0mthr\u001b[0m\u001b[0;34m[\u001b[0m\u001b[0;36m0\u001b[0m\u001b[0;34m]\u001b[0m\u001b[0;34m,\u001b[0m \u001b[0mDl\u001b[0m\u001b[0;34m,\u001b[0m \u001b[0mmuc\u001b[0m\u001b[0;34m)\u001b[0m\u001b[0;34m,\u001b[0m \u001b[0;36m0.002\u001b[0m\u001b[0;34m,\u001b[0m \u001b[0mko\u001b[0m\u001b[0;34m[\u001b[0m\u001b[0;36m0\u001b[0m\u001b[0;34m,\u001b[0m\u001b[0;36m1\u001b[0m\u001b[0;34m]\u001b[0m\u001b[0;34m-\u001b[0m\u001b[0;36m0.0001\u001b[0m\u001b[0;34m)\u001b[0m\u001b[0;34m\u001b[0m\u001b[0;34m\u001b[0m\u001b[0m\n\u001b[0m\u001b[1;32m     13\u001b[0m     \u001b[0;32mexcept\u001b[0m \u001b[0mValueError\u001b[0m\u001b[0;34m:\u001b[0m\u001b[0;34m\u001b[0m\u001b[0;34m\u001b[0m\u001b[0m\n\u001b[1;32m     14\u001b[0m         \u001b[0minnerpocket\u001b[0m\u001b[0;34m=\u001b[0m\u001b[0;36m4\u001b[0m\u001b[0;34m\u001b[0m\u001b[0;34m\u001b[0m\u001b[0m\n",
      "\u001b[0;31mTypeError\u001b[0m: unsupported operand type(s) for -: 'NoneType' and 'float'"
     ]
    }
   ],
   "source": [
    "thr = np.linspace(-np.pi,np.pi,NFS,endpoint=False)\n",
    "thl=np.array([0,np.pi])\n",
    "kxlr = np.array([[th, catch(optimize.newton, lambda k:func(k,th, Dl, muc), 1.2*kmax)] for th in thl])\n",
    "ko = np.array([[th, catch(optimize.brentq, lambda k:func(k,th, Dl, muc), 0.01, 1.3*kmax)] for th in thr])\n",
    "innerpocket=1\n",
    "if kxlr[1,1]==None or kxlr[0,1]==None or kxlr[0,1]<0 or kxlr[1,1]<0:\n",
    "    innerpocket=0\n",
    "elif kxlr[1,1] < 0.28*kxlr[0,1]:\n",
    "    innerpocket=2\n",
    "else:\n",
    "    try:\n",
    "        optimize.brentq(lambda k:func(k,thr[0], Dl, muc), 0.002, ko[0,1]-0.0001)\n",
    "    except ValueError:\n",
    "        innerpocket=4\n",
    "pref=5\n",
    "prefm=1.8\n",
    "if innerpocket==0:\n",
    "    k1 = catch(optimize.newton,lambda k:func(k,0, Dl, muc), kmax+0.4)\n",
    "    k1m = catch(optimize.newton,lambda k:func(k,0, Dl, muc), -kmax)\n",
    "    if k1!=None and k1>0 and k1m!=None and k1m<0:\n",
    "        innerpocket=3\n",
    "        thr = np.linspace(-np.pi,np.pi,NFS,endpoint=False)\n",
    "        k0 = optimize.brentq(lambda k:func(k,0, Dl, muc), 0.0, k1-0.00001)\n",
    "        kc = 0.5*(k0+k1)\n",
    "        kt = optimize.newton(lambda k:func1(kc,0,k,np.pi/2, Dl, muc), 0.0001)\n",
    "        k0m = optimize.brentq(lambda k:func(k,0, Dl, muc), 0.0, k1m+0.0001)\n",
    "        kcm = 0.5*(k0m+k1m)\n",
    "        ktm = optimize.newton(lambda k:func1(kcm,0,k,np.pi/2, Dl, muc), 0.0001)\n",
    "        k01 = np.array([[th, catch(optimize.brentq,lambda k:func1(kc, 0,k,th, Dl, muc), 0, pref*kt)] for th in thr])\n",
    "        k11 = np.array([[th, catch(optimize.brentq,lambda k:func1(kc*np.cos(2*np.pi/3), kc*np.sin(2*np.pi/3),k,th,Dl,muc), 0, pref*kt)] for th in thr])\n",
    "        k21 = np.array([[th, catch(optimize.brentq,lambda k:func1(kc*np.cos(2*np.pi/3), kc*np.sin(-2*np.pi/3),k,th,Dl,muc), 0, pref*kt)] for th in thr])\n",
    "        k01m = np.array([[th, catch(optimize.brentq,lambda k:func1(kcm, 0,k,th, Dl, muc), 0, prefm*ktm)] for th in thr])\n",
    "        k11m = np.array([[th, catch(optimize.brentq,lambda k:func1(kcm*np.cos(2*np.pi/3), kcm*np.sin(2*np.pi/3),k,th,Dl,muc), 0, prefm*ktm)] for th in thr])\n",
    "        k21m = np.array([[th, catch(optimize.brentq,lambda k:func1(kcm*np.cos(2*np.pi/3), kcm*np.sin(-2*np.pi/3),k,th,Dl,muc), 0, prefm*ktm)] for th in thr])\n",
    "        \n",
    "\n",
    "        k01 = findAll(kc+k01[:,1]*np.cos(k01[:,0]), k01[:,1]*np.sin(k01[:,0]), mlt*np.mean(k01[:,1]) if mlt*np.mean(k01[:,1])>cutoff else cutoff)\n",
    "        k11 = findAll(kc*np.cos(2*np.pi/3)+k11[:,1]*np.cos(k11[:,0]), kc*np.sin(2*np.pi/3)+k11[:,1]*np.sin(k11[:,0]), mlt*np.mean(k11[:,1]) if mlt*np.mean(k11[:,1])>cutoff else cutoff)\n",
    "        k21 = findAll(kc*np.cos(2*np.pi/3)+k21[:,1]*np.cos(k21[:,0]), kc*np.sin(-2*np.pi/3)+k21[:,1]*np.sin(k21[:,0]), mlt*np.mean(k21[:,1]) if mlt*np.mean(k21[:,1])>cutoff else cutoff)\n",
    "        k01m = findAll(kcm+k01m[:,1]*np.cos(k01m[:,0]), k01m[:,1]*np.sin(k01m[:,0]), mlt*np.mean(k01m[:,1]) if mlt*np.mean(k01m[:,1])>cutoff else cutoff)\n",
    "        k11m = findAll(kcm*np.cos(2*np.pi/3)+k11m[:,1]*np.cos(k11m[:,0]), kcm*np.sin(2*np.pi/3)+k11m[:,1]*np.sin(k11m[:,0]), mlt*np.mean(k11m[:,1]) if mlt*np.mean(k11m[:,1])>cutoff else cutoff)\n",
    "        k21m = findAll(kcm*np.cos(2*np.pi/3)+k21m[:,1]*np.cos(k21m[:,0]), kcm*np.sin(-2*np.pi/3)+k21m[:,1]*np.sin(k21m[:,0]), mlt*np.mean(k21m[:,1]) if mlt*np.mean(k21m[:,1])>cutoff else cutoff)\n",
    "        sizes=np.array([len(k01[0]),len(k01[0])+len(k11[0]), len(k01[0])+len(k11[0])+len(k21[0]),\n",
    "                        len(k01[0])+len(k11[0])+len(k21[0])+len(k01m[0]),\n",
    "                        len(k01[0])+len(k11[0])+len(k21[0])+len(k01m[0])+len(k11m[0]), \n",
    "                        len(k01[0])+len(k11[0])+len(k21[0])+len(k01m[0])+len(k11m[0])+len(k21m[0])])\n",
    "\n",
    "        krx = np.concatenate((k01[0], k11[0], k21[0], k01m[0], k11m[0], k21m[0]))\n",
    "        kry = np.concatenate((k01[1], k11[1], k21[1], k01m[1], k11m[1], k21m[1]))\n",
    "        indsc=np.concatenate((k01[2], k11[2], k21[2], k01m[2], k11m[2], k21m[2]))\n",
    "\n",
    "    else:\n",
    "        if k1!=None and k1>0:\n",
    "            kb=k1-0.001\n",
    "            kl = k1\n",
    "        else:\n",
    "            kb=k1m+0.001\n",
    "            kl=k1m\n",
    "        k0 = optimize.brentq(lambda k:func(k,0, Dl, muc), 0.0, kb)\n",
    "        kc = 0.5*(k0+kl)\n",
    "        kt = optimize.newton(lambda k:func1(kc,0,k,np.pi/2, Dl, muc), 0.03)\n",
    "        k01 = np.array([[th, catch(optimize.brentq,lambda k:func1(kc, 0,k,th, Dl, muc), 0, pref*kt)] for th in thr])\n",
    "        k11 = np.array([[th, catch(optimize.brentq,lambda k:func1(kc*np.cos(2*np.pi/3), kc*np.sin(2*np.pi/3),k,th,Dl,muc), 0, pref*kt)] for th in thr])\n",
    "        k21 = np.array([[th, catch(optimize.brentq,lambda k:func1(kc*np.cos(2*np.pi/3), kc*np.sin(-2*np.pi/3),k,th,Dl,muc), 0, pref*kt)] for th in thr])\n",
    "        k01 = findAll(kc+k01[:,1]*np.cos(k01[:,0]), k01[:,1]*np.sin(k01[:,0]), mlt*np.mean(k01[:,1]) if mlt*np.mean(k01[:,1])>cutoff else cutoff)\n",
    "        k11 = findAll(kc*np.cos(2*np.pi/3)+k11[:,1]*np.cos(k11[:,0]), kc*np.sin(2*np.pi/3)+k11[:,1]*np.sin(k11[:,0]), mlt*np.mean(k11[:,1]) if mlt*np.mean(k11[:,1])>cutoff else cutoff)\n",
    "        k21 = findAll(kc*np.cos(2*np.pi/3)+k21[:,1]*np.cos(k21[:,0]), kc*np.sin(-2*np.pi/3)+k21[:,1]*np.sin(k21[:,0]), mlt*np.mean(k21[:,1]) if mlt*np.mean(k21[:,1])>cutoff else cutoff)\n",
    "\n",
    "        sizes=np.array([len(k01[0]), len(k01[0])+len(k11[0]), len(k01[0])+len(k11[0])+len(k21[0])])\n",
    "        krx = np.concatenate((k01[0], k11[0], k21[0]))\n",
    "        kry = np.concatenate((k01[1], k11[1], k21[1]))\n",
    "        indsc=np.concatenate((k01[2], k11[2], k21[2]))\n",
    "            \n",
    "elif innerpocket==1:\n",
    "    ki = np.array([[th[0],optimize.brentq(lambda k:func(k,th[0], Dl, muc), 0.00002, th[1]-0.00001)] for th in zip(thr, ko[:,1])])\n",
    "    ki = findAll(ki[:,1]*np.cos(ki[:,0]), ki[:,1]*np.sin(ki[:,0]), mlt*np.mean(ki[:,1]) if mlt*np.mean(ki[:,1])>cutoff else cutoff)\n",
    "    ko = findAll(ko[:,1]*np.cos(ko[:,0]), ko[:,1]*np.sin(ko[:,0]), mlt*np.mean(ko[:,1]) if mlt*np.mean(ko[:,1])>cutoff else cutoff)\n",
    "    sizes=np.array([len(ki[0]), len(ki[0])+len(ko[0])])\n",
    "\n",
    "    krx = np.concatenate((ki[0], ko[0]))\n",
    "    kry = np.concatenate((ki[1], ko[1]))\n",
    "    indsc = np.concatenate((ki[2], ko[2]))\n",
    "elif innerpocket==2:\n",
    "    k00 = np.array([[th, catch(optimize.brentq,lambda k:func(k,th, Dl, muc), 0, kxlr[1,1]+0.01)] for th in thr])\n",
    "    k0 = optimize.brentq(lambda k:func(k,0, Dl, muc), k00[NFS//2,1]+0.0001, kxlr[0,1]-0.001)\n",
    "    kc = 0.5*(k0+kxlr[0,1])\n",
    "    kt = optimize.newton(lambda k:func1(kc,0,k,np.pi/2, Dl, muc), 0.001)\n",
    "    k01 = np.array([[th, catch(optimize.brentq,lambda k:func1(kc, 0,k,th, Dl, muc), 0, pref*kt)] for th in thr])\n",
    "    k11 = np.array([[th, catch(optimize.brentq,lambda k:func1(kc*np.cos(2*np.pi/3), kc*np.sin(2*np.pi/3),k,th,Dl,muc), 0, pref*kt)] for th in thr])\n",
    "    k21 = np.array([[th, catch(optimize.brentq,lambda k:func1(kc*np.cos(2*np.pi/3), kc*np.sin(-2*np.pi/3),k,th,Dl,muc), 0, pref*kt)] for th in thr])\n",
    "    k00 = findAll(k00[:,1]*np.cos(k00[:,0]), k00[:,1]*np.sin(k00[:,0]), mlt*np.mean(k00[:,1]) if mlt*np.mean(k00[:,1])>cutoff else cutoff)\n",
    "    k01 = findAll(kc+k01[:,1]*np.cos(k01[:,0]), k01[:,1]*np.sin(k01[:,0]), mlt*np.mean(k01[:,1]) if mlt*np.mean(k01[:,1])>cutoff else cutoff)\n",
    "    k11 = findAll(kc*np.cos(2*np.pi/3)+k11[:,1]*np.cos(k11[:,0]), kc*np.sin(2*np.pi/3)+k11[:,1]*np.sin(k11[:,0]), mlt*np.mean(k11[:,1]) if mlt*np.mean(k11[:,1])>cutoff else cutoff)\n",
    "    k21 = findAll(kc*np.cos(2*np.pi/3)+k21[:,1]*np.cos(k21[:,0]), kc*np.sin(-2*np.pi/3)+k21[:,1]*np.sin(k21[:,0]), mlt*np.mean(k21[:,1]) if mlt*np.mean(k21[:,1])>cutoff else cutoff)\n",
    "    sizes=np.array([len(k00[0]),len(k00[0])+len(k01[0]), len(k00[0])+len(k01[0])+len(k11[0]),\n",
    "                        len(k00[0])+len(k01[0])+len(k11[0])+len(k21[0])])\n",
    "    krx = np.concatenate((k00[0], k01[0], k11[0], k21[0]))\n",
    "    kry = np.concatenate((k00[1], k01[1], k11[1], k21[1]))\n",
    "    indsc=np.concatenate((k00[2], k01[2], k11[2], k21[2]))\n",
    "else:    \n",
    "    ko = findAll(ko[:,1]*np.cos(ko[:,0]), ko[:,1]*np.sin(ko[:,0]), mlt*np.mean(ko[:,1]) if mlt*np.mean(ko[:,1])>cutoff else cutoff)\n",
    "    sizes=np.array([len(ko[0])])\n",
    "    krx = ko[0]\n",
    "    kry = ko[1]\n",
    "    indsc = ko[2]\n",
    "\n",
    "print(krx.shape)\n",
    "vx = getVMatrix(1,True)\n",
    "vy = getVMatrix(1,False)\n",
    "wi,vi = np.linalg.eigh(getBMatrixABCA(krx, kry, Dl, 0.0, 1))\n",
    "vxli = np.real(np.einsum('ik, kl, il->i', np.conj(vi[:,:,4]), vx, vi[:,:,4]))\n",
    "vyli = np.real(np.einsum('ik, kl, il->i', np.conj(vi[:,:,4]), vy, vi[:,:,4]))\n",
    "va=np.sqrt(vxli**2+vyli**2)\n",
    "vm = np.sqrt(1/va)\n",
    "vm = vm[:,np.newaxis]*vm\n",
    "\n",
    "if innerpocket==0:\n",
    "    dk=np.concatenate((np.sqrt((krx[:sizes[0]]-np.concatenate((krx[1:sizes[0]],[krx[0]])))**2+(kry[:sizes[0]]-np.concatenate((kry[1:sizes[0]],[kry[0]])))**2),\n",
    "                       np.sqrt((krx[sizes[0]:sizes[1]]-np.concatenate((krx[sizes[0]+1:sizes[1]],[krx[sizes[0]]])))**2+(kry[sizes[0]:sizes[1]]-np.concatenate((kry[sizes[0]+1:sizes[1]],[kry[sizes[0]]])))**2),\n",
    "                       np.sqrt((krx[sizes[1]:]-np.concatenate((krx[sizes[1]+1:],[krx[sizes[1]]])))**2+(kry[sizes[1]:]-np.concatenate((kry[sizes[1]+1:],[kry[sizes[1]]])))**2)))\n",
    "elif innerpocket==3:\n",
    "    dk=np.concatenate((np.sqrt((krx[:sizes[0]]-np.concatenate((krx[1:sizes[0]],[krx[0]])))**2+(kry[:sizes[0]]-np.concatenate((kry[1:sizes[0]],[kry[0]])))**2),\n",
    "                       np.sqrt((krx[sizes[0]:sizes[1]]-np.concatenate((krx[sizes[0]+1:sizes[1]],[krx[sizes[0]]])))**2+(kry[sizes[0]:sizes[1]]-np.concatenate((kry[sizes[0]+1:sizes[1]],[kry[sizes[0]]])))**2),\n",
    "                       np.sqrt((krx[sizes[1]:sizes[2]]-np.concatenate((krx[sizes[1]+1:sizes[2]],[krx[sizes[1]]])))**2+(kry[sizes[1]:sizes[2]]-np.concatenate((kry[sizes[1]+1:sizes[2]],[kry[sizes[1]]])))**2),\n",
    "                       np.sqrt((krx[sizes[2]:sizes[3]]-np.concatenate((krx[sizes[2]+1:sizes[3]],[krx[sizes[2]]])))**2+(kry[sizes[2]:sizes[3]]-np.concatenate((kry[sizes[2]+1:sizes[3]],[kry[sizes[2]]])))**2),\n",
    "                       np.sqrt((krx[sizes[3]:sizes[4]]-np.concatenate((krx[sizes[3]+1:sizes[4]],[krx[sizes[3]]])))**2+(kry[sizes[3]:sizes[4]]-np.concatenate((kry[sizes[3]+1:sizes[4]],[kry[sizes[3]]])))**2),\n",
    "                       np.sqrt((krx[sizes[4]:sizes[5]]-np.concatenate((krx[sizes[4]+1:sizes[5]],[krx[sizes[4]]])))**2+(kry[sizes[4]:sizes[5]]-np.concatenate((kry[sizes[4]+1:sizes[5]],[kry[sizes[4]]])))**2)))\n",
    "elif innerpocket==1:\n",
    "    dk=np.concatenate((np.sqrt((krx[:sizes[0]]-np.concatenate((krx[1:sizes[0]],[krx[0]])))**2+(kry[:sizes[0]]-np.concatenate((kry[1:sizes[0]],[kry[0]])))**2), \n",
    "                       np.sqrt((krx[sizes[0]:]-np.concatenate((krx[sizes[0]+1:],[krx[sizes[0]]])))**2+(kry[sizes[0]:]-np.concatenate((kry[sizes[0]+1:],[kry[sizes[0]]])))**2)))\n",
    "elif innerpocket==2:\n",
    "    dk=np.concatenate((np.sqrt((krx[:sizes[0]]-np.concatenate((krx[1:sizes[0]],[krx[0]])))**2+(kry[:sizes[0]]-np.concatenate((kry[1:sizes[0]],[kry[0]])))**2),\n",
    "                       np.sqrt((krx[sizes[0]:sizes[1]]-np.concatenate((krx[sizes[0]+1:sizes[1]],[krx[sizes[0]]])))**2+(kry[sizes[0]:sizes[1]]-np.concatenate((kry[sizes[0]+1:sizes[1]],[kry[sizes[0]]])))**2),\n",
    "                       np.sqrt((krx[sizes[1]:sizes[2]]-np.concatenate((krx[sizes[1]+1:sizes[2]],[krx[sizes[1]]])))**2+(kry[sizes[1]:sizes[2]]-np.concatenate((kry[sizes[1]+1:sizes[2]],[kry[sizes[1]]])))**2),\n",
    "                       np.sqrt((krx[sizes[2]:]-np.concatenate((krx[sizes[2]+1:],[krx[sizes[2]]])))**2+(kry[sizes[2]:]-np.concatenate((kry[sizes[2]+1:],[kry[sizes[2]]])))**2)))\n",
    "else:\n",
    "    dk=np.sqrt((krx-np.concatenate((krx[1:],[krx[0]])))**2+(kry[:]-np.concatenate((kry[1:],[kry[0]])))**2)     \n",
    "\n",
    "vll=-(vxli*krx+vyli*kry)/np.sqrt(krx**2+kry**2)    \n",
    "ml.rcParams['figure.figsize'] = (16.0, 5.5)\n",
    "fig, (ax1, ax2)= plt.subplots(1,2)\n",
    "sc=ax1.scatter(krx, kry, c=vll,s=3.8)\n",
    "plt.colorbar(sc, ax=ax1)\n",
    "ax1.set_xlabel(r'$k_xa$')\n",
    "ax1.set_ylabel(r'$k_ya$')\n",
    "\n",
    "if innerpocket==3:\n",
    "    ax2.plot(thr[indsc[:sizes[0]]], vll[:sizes[0]])\n",
    "    ax2.plot(thr[indsc[sizes[0]:sizes[1]]], vll[sizes[0]:sizes[1]])\n",
    "    ax2.plot(thr[indsc[sizes[1]:sizes[2]]], vll[sizes[1]:sizes[2]])\n",
    "    ax2.plot(thr[indsc[sizes[2]:sizes[3]]], vll[sizes[2]:sizes[3]])\n",
    "    ax2.plot(thr[indsc[sizes[3]:sizes[4]]], vll[sizes[3]:sizes[4]])\n",
    "    ax2.plot(thr[indsc[sizes[4]:sizes[5]]], vll[sizes[4]:sizes[5]])\n",
    "elif innerpocket==2:\n",
    "    ax2.plot(thr[indsc[:sizes[0]]], vll[:sizes[0]])\n",
    "    ax2.plot(thr[indsc[sizes[0]:sizes[1]]], vll[sizes[0]:sizes[1]])\n",
    "    ax2.plot(thr[indsc[sizes[1]:sizes[2]]], vll[sizes[1]:sizes[2]])\n",
    "    ax2.plot(thr[indsc[sizes[2]:sizes[3]]], vll[sizes[2]:sizes[3]])\n",
    "else:\n",
    "    ax2.plot(thr[indsc[:sizes[0]]], vll[:sizes[0]])\n",
    "    if innerpocket<2:\n",
    "        ax2.plot(thr[indsc[sizes[0]:sizes[1]]], vll[sizes[0]:sizes[1]])\n",
    "    if innerpocket<1:\n",
    "        ax2.plot(thr[indsc[sizes[1]:sizes[2]]], vll[sizes[1]:sizes[2]])\n",
    "ax2.set_xlabel(r'$\\theta$ around FS')\n",
    "ax2.set_ylabel(r'$v_\\parallel(\\mathbf{k})$')\n",
    "\n",
    "plt.tight_layout()"
   ]
  },
  {
   "cell_type": "code",
   "execution_count": 272,
   "metadata": {},
   "outputs": [
    {
     "data": {
      "text/plain": [
       "array([[0.        , 0.05932898],\n",
       "       [3.14159265, 0.01332318]])"
      ]
     },
     "execution_count": 272,
     "metadata": {},
     "output_type": "execute_result"
    }
   ],
   "source": [
    "kxlr"
   ]
  },
  {
   "cell_type": "code",
   "execution_count": 20,
   "metadata": {},
   "outputs": [],
   "source": [
    "kmin=4e-8\n",
    "qdifx=krx-krx[:,np.newaxis]\n",
    "qdify=kry-kry[:,np.newaxis]\n",
    "WaveFunc = True\n",
    "\n",
    "def retxi(ir, ic):\n",
    "    return np.real(xig(qdifx[ir,ic],qdify[ir,ic],enb,env,fdl,kmin))"
   ]
  },
  {
   "cell_type": "code",
   "execution_count": 21,
   "metadata": {},
   "outputs": [],
   "source": [
    "from itertools import starmap\n",
    "from multiprocessing import Pool\n",
    "pool = Pool(processes=4)\n",
    "\n",
    "li=np.array(list(zip(*np.triu_indices(len(qdifx)))))\n",
    "xiMatt = list(pool.starmap(retxi, li))\n",
    "xiMat = np.zeros(qdifx.shape)\n",
    "xiMat[li[:,0],li[:,1]]=xiMatt"
   ]
  },
  {
   "cell_type": "code",
   "execution_count": 22,
   "metadata": {},
   "outputs": [],
   "source": [
    "eps=4\n",
    "d=150\n",
    "\n",
    "def Lamd(epsl=eps, dl=d, TwoPhase=False):\n",
    "    mult = 2 if TwoPhase else 4\n",
    "    Mat = (1/(2*np.pi)**2)*np.sqrt(dk[:,np.newaxis]*dk)*(Veff(qdifx,qdify,epsl,dl)/(1-mult*Veff(qdifx,qdify,epsl,dl)*xiMat))*vm\n",
    "    if WaveFunc:\n",
    "        w0, v0 = np.linalg.eigh(getBMatrixABCA(krx, kry, Dl, 0.0, 1))\n",
    "        print(v0.shape)\n",
    "        Mat = Mat*np.abs(np.dot(np.conj(v0[:,:,4]),v0[:,:,4].T))**2\n",
    "    lam, psi = np.linalg.eigh(Mat, UPLO='U')\n",
    "    return lam[:4], psi[:,:4]"
   ]
  },
  {
   "cell_type": "code",
   "execution_count": 23,
   "metadata": {},
   "outputs": [],
   "source": [
    "WaveFunc = False\n",
    "lmb=Lamd(TwoPhase=False)"
   ]
  },
  {
   "cell_type": "code",
   "execution_count": 24,
   "metadata": {},
   "outputs": [
    {
     "data": {
      "text/plain": [
       "array([-0.42797159, -0.42585294, -0.04205367, -0.03776038])"
      ]
     },
     "execution_count": 24,
     "metadata": {},
     "output_type": "execute_result"
    }
   ],
   "source": [
    "lmb[0]"
   ]
  },
  {
   "cell_type": "code",
   "execution_count": 82,
   "metadata": {},
   "outputs": [
    {
     "data": {
      "text/plain": [
       "array([0.01440281, 0.01426131, 0.01393576, 0.01349686, 0.01311716,\n",
       "       0.01295811, 0.01308637, 0.01344828, 0.01388994, 0.01423423,\n",
       "       0.01439516, 0.01440878, 0.01428597, 0.01398006, 0.01354619,\n",
       "       0.01315078, 0.01296178, 0.01305858, 0.01340072, 0.01384282,\n",
       "       0.01420472, 0.01438574, 0.01441318, 0.01430822, 0.01402266,\n",
       "       0.01359599, 0.01318704, 0.01296911, 0.01303393, 0.01335444,\n",
       "       0.01379462, 0.01417282, 0.01913183])"
      ]
     },
     "execution_count": 82,
     "metadata": {},
     "output_type": "execute_result"
    }
   ],
   "source": [
    "dk"
   ]
  },
  {
   "cell_type": "code",
   "execution_count": 342,
   "metadata": {},
   "outputs": [],
   "source": [
    "dpath = \"/home/aghazary/Documents/MyWorks/BilayerGraphene/PythonCode/SuperABCA/\"\n",
    "with open(dpath+'EnergyDifWN.npy', 'rb') as f:\n",
    "    dat = np.load(f,allow_pickle=True)"
   ]
  },
  {
   "cell_type": "code",
   "execution_count": 343,
   "metadata": {},
   "outputs": [],
   "source": [
    "Dtl=np.arange(1,18.01,1)\n",
    "datn=[dat[np.where(np.abs(Dtll-dat[:,0])<1e-6)[0]] for Dtll in Dtl]"
   ]
  },
  {
   "cell_type": "code",
   "execution_count": 344,
   "metadata": {},
   "outputs": [],
   "source": [
    "minp0=np.array([datn[i][5+np.argmin(datn[i][5:,2])] for i in range(len(datn))])"
   ]
  },
  {
   "cell_type": "code",
   "execution_count": 308,
   "metadata": {},
   "outputs": [],
   "source": [
    "Nmax=400\n",
    "kr, st = np.linspace(-kmax,kmax, Nmax, retstep=True, endpoint=False)\n",
    "KY, KX = np.meshgrid(kr, kr)"
   ]
  },
  {
   "cell_type": "code",
   "execution_count": 355,
   "metadata": {},
   "outputs": [
    {
     "data": {
      "text/plain": [
       "(-0.08, 0.08)"
      ]
     },
     "execution_count": 355,
     "metadata": {},
     "output_type": "execute_result"
    },
    {
     "data": {
      "image/png": "[encoded data removed]",
      "text/plain": [
       "<Figure size 360x360 with 1 Axes>"
      ]
     },
     "metadata": {
      "needs_background": "light"
     },
     "output_type": "display_data"
    }
   ],
   "source": [
    "Dl=7\n",
    "ind=np.where(np.abs(Dl-Dtl)<1e-6)[0]\n",
    "ml.rcParams['figure.figsize'] = (5.0, 5.0)\n",
    "w, v = np.linalg.eigh(getBMatrixABCA(KX, KY, minp0[ind,0], 0.0, 1))\n",
    "plt.contour(KX,KY,w[:,:,4], [minp0[ind,1][0]],colors='b')\n",
    "plt.contour(KX,KY,w[:,:,4], [minp[ind,1][0]],colors='r')\n",
    "plt.xlim([-0.08,0.08])\n",
    "plt.ylim([-0.08,0.08])"
   ]
  },
  {
   "cell_type": "code",
   "execution_count": 363,
   "metadata": {},
   "outputs": [
    {
     "data": {
      "image/png": "[encoded data removed]",
      "text/plain": [
       "<Figure size 576x360 with 1 Axes>"
      ]
     },
     "metadata": {},
     "output_type": "display_data"
    }
   ],
   "source": [
    "ml.rcParams['figure.figsize'] = (8.0, 5.0)\n",
    "rl=np.linspace(0.1,2,200)\n",
    "plt.plot(rl,1/rl)\n",
    "plt.xlabel(r'$r$',fontsize=22)\n",
    "plt.ylabel(r'$U$',fontsize=22)\n",
    "frame1 = plt.gca()\n",
    "frame1.axes.get_xaxis().set_ticks([])\n",
    "frame1.axes.get_yaxis().set_ticks([])\n",
    "plt.savefig('Colomb.png',dpi=200)"
   ]
  },
  {
   "cell_type": "code",
   "execution_count": null,
   "metadata": {},
   "outputs": [],
   "source": []
  }
 ],
 "metadata": {
  "kernelspec": {
   "display_name": "Python 3",
   "language": "python",
   "name": "python3"
  },
  "language_info": {
   "codemirror_mode": {
    "name": "ipython",
    "version": 3
   },
   "file_extension": ".py",
   "mimetype": "text/x-python",
   "name": "python",
   "nbconvert_exporter": "python",
   "pygments_lexer": "ipython3",
   "version": "3.6.9"
  }
 },
 "nbformat": 4,
 "nbformat_minor": 4
}
