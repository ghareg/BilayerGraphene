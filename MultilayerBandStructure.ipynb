{
 "cells": [
  {
   "cell_type": "code",
   "execution_count": 1,
   "metadata": {},
   "outputs": [],
   "source": [
    "import numpy as np\n",
    "from scipy.signal import savgol_filter\n",
    "from scipy.interpolate import interp1d\n",
    "import matplotlib.pyplot as plt\n",
    "#matplotlib.rc('font', **font)\n",
    "cstring = 'rgbcmyk'\n",
    "import matplotlib as ml\n",
    "%matplotlib inline\n",
    "font = {'family' : 'Sans',\n",
    "        'weight' : 'normal',\n",
    "        'size'   : 16}\n",
    "ml.rc('font', **font)\n",
    "ml.rcParams['figure.figsize'] = (8.0, 5.0)\n",
    "ml.rcParams['text.usetex'] =True\n",
    "ml.rc('font', family='serif',size=22)"
   ]
  },
  {
   "cell_type": "code",
   "execution_count": 55,
   "metadata": {},
   "outputs": [],
   "source": [
    "g0 = 3100\n",
    "g1 = 380\n",
    "g3 = 290\n",
    "g4 = 141\n",
    "g2 = -15\n",
    "g5 = 50\n",
    "Dt2 = -2.3\n",
    "Dt3=0.0\n",
    "Dt4=0.0\n",
    "Dtp = 10.5"
   ]
  },
  {
   "cell_type": "code",
   "execution_count": 56,
   "metadata": {},
   "outputs": [],
   "source": [
    "def getBMatrixAB(kx, ky, Dt, mu, xi):\n",
    "    v0 = -0.5 * np.sqrt(3) * g0\n",
    "    v3 = -0.5 * np.sqrt(3) * g3\n",
    "    v4 = -0.5 * np.sqrt(3) * g4\n",
    "    kx, ky = np.asarray(kx), np.asarray(ky)\n",
    "    p = xi * kx + ky * 1j\n",
    "    pc = xi * kx - ky * 1j\n",
    "    idt = np.ones(kx.shape, dtype=float)\n",
    "    Hl = np.array([[(Dt - mu)*idt, v0*pc, -v4*pc, -v3*p],\n",
    "                   [v0*p, (Dt + Dtp - mu)*idt, g1*idt, -v4*pc],\n",
    "                   [-v4*p, g1*idt, (-Dt + Dtp - mu)*idt, v0*pc],\n",
    "                   [-v3*pc, -v4 * p, v0*p, (-Dt - mu)*idt]])\n",
    "    return np.moveaxis(Hl, [0,1], [-2,-1])\n",
    "\n",
    "\n",
    "def getBMatrixABA(kx, ky, Dt, mu, xi):\n",
    "    v0 = 0.5 * np.sqrt(3) * g0\n",
    "    v3 = 0.5 * np.sqrt(3) * g3\n",
    "    v4 = 0.5 * np.sqrt(3) * g4\n",
    "    kx, ky = np.asarray(kx), np.asarray(ky)\n",
    "    p = xi * kx + ky * 1j\n",
    "    pc = xi * kx - ky * 1j\n",
    "    idt = np.ones(kx.shape, dtype=float)\n",
    "    Hl = np.array([[(Dt + Dt2 - mu)*idt, v0*pc, -v4*pc, -v3*p, 0.5*g2*idt, 0*idt],\n",
    "                   [v0*p, (Dt + Dt2 + Dtp - mu)*idt, g1*idt, -v4*pc, 0*idt, 0.5*g5*idt],\n",
    "                   [-v4*p, g1*idt, (-2*Dt2 + Dtp - mu)*idt, v0*pc, -v4*p, g1*idt],\n",
    "                   [-v3*pc, -v4 * p, v0*p, (-2*Dt2 - mu)*idt, -v3*pc, -v4*p],\n",
    "                   [0.5*g2*idt, 0*idt, -v4*pc, -v3*p,(Dt2 - Dt - mu)*idt, v0*pc],\n",
    "                   [0*idt, 0.5*g5*idt, g1*idt, -v4*pc, v0*p, (Dt2 - Dt + Dtp - mu)*idt]])\n",
    "    return np.moveaxis(Hl, [0,1], [-2,-1])\n",
    "\n",
    "def getBMatrixABAB(kx, ky, Dt, mu, xi):\n",
    "    v0 = 0.5 * np.sqrt(3) * g0\n",
    "    v3 = 0.5 * np.sqrt(3) * g3\n",
    "    v4 = 0.5 * np.sqrt(3) * g4\n",
    "    kx, ky = np.asarray(kx), np.asarray(ky)\n",
    "    p = xi * kx + ky * 1j\n",
    "    pc = xi * kx - ky * 1j\n",
    "    idt = np.ones(kx.shape, dtype=float)\n",
    "    Dt2 = 0\n",
    "    Hl = np.array([[(Dt + Dt2 - mu)*idt, v0*pc, -v4*pc, -v3*p, 0.5*g2*idt, 0*idt, 0*idt, 0*idt],\n",
    "                   [v0*p, (Dt + Dt2 + Dtp - mu)*idt, g1*idt, -v4*pc, 0*idt, 0.5*g5*idt, 0*idt, 0*idt],\n",
    "                   [-v4*p, g1*idt, (Dt/3 - Dt3 - Dt2 + Dtp - mu)*idt, v0*pc, -v4*p, g1*idt, 0.5*g5*idt, 0*idt],\n",
    "                   [-v3*pc, -v4 * p, v0*p, (Dt/3 - Dt3 - Dt2 - mu)*idt, -v3*pc, -v4*p, 0*idt, 0.5*g2*idt],\n",
    "                   [0.5*g2*idt, 0*idt, -v4*pc, -v3*p,(-Dt/3 + Dt3 - Dt2 - mu)*idt, v0*pc, -v4*pc, -v3*p],\n",
    "                   [0*idt, 0.5*g5*idt, g1*idt, -v4*pc, v0*p, (-Dt/3 + Dt3 - Dt2 + Dtp - mu)*idt, g1*idt, -v4*pc],\n",
    "                   [0*idt, 0*idt, 0.5*g5*idt, 0*idt, -v4*p, g1*idt, (Dt2 - Dt + Dtp - mu)*idt, v0*pc],\n",
    "                   [0*idt, 0*idt, 0*idt, 0.5*g2*idt, -v3*pc, -v4*p, v0*p, (Dt2 - Dt - mu)*idt]])\n",
    "    return np.moveaxis(Hl, [0,1], [-2,-1])\n",
    "\n",
    "\n",
    "def getBMatrixABAC(kx, ky, Dt, mu, xi):\n",
    "    v0 = 0.5 * np.sqrt(3) * g0\n",
    "    v3 = 0.5 * np.sqrt(3) * g3\n",
    "    v4 = 0.5 * np.sqrt(3) * g4\n",
    "    kx, ky = np.asarray(kx), np.asarray(ky)\n",
    "    p = xi * kx + ky * 1j\n",
    "    pc = xi * kx - ky * 1j\n",
    "    idt = np.ones(kx.shape, dtype=float)\n",
    "    Dt2 = 0\n",
    "    Hl = np.array([[(Dt + Dt2 - mu)*idt, v0*pc, -v4*pc, -v3*p, 0.5*g2*idt, 0*idt, 0*idt, 0*idt],\n",
    "                   [v0*p, (Dt + Dt2 + Dtp - mu)*idt, g1*idt, -v4*pc, 0*idt, 0.5*g5*idt, 0*idt, 0*idt],\n",
    "                   [-v4*p, g1*idt, (Dt/3 - Dt3 - Dt2 + Dtp - mu)*idt, v0*pc, -v4*p, g1*idt, 0*idt, 0*idt],\n",
    "                   [-v3*pc, -v4 * p, v0*p, (Dt/3 - Dt3 - Dt2 - mu)*idt, -v3*pc, -v4*p, 0.5*g2*idt, 0*idt],\n",
    "                   [0.5*g2*idt, 0*idt, -v4*pc, -v3*p,(-Dt/3 + Dt3 - Dt2 + Dtp - mu)*idt, v0*pc, -v4*p, g1*idt],\n",
    "                   [0*idt, 0.5*g5*idt, g1*idt, -v4*pc, v0*p, (-Dt/3 + Dt3 - Dt2 + Dtp - mu)*idt, -v3*pc, -v4*p],\n",
    "                   [0*idt, 0*idt, 0*idt, 0.5*g2*idt, -v4*pc, -v3*p, (Dt2 - Dt - mu)*idt, v0*pc],\n",
    "                   [0*idt, 0*idt, 0*idt, 0*idt, g1*idt, -v4*pc, v0*p, (Dt2 - Dt + Dtp - mu)*idt]])\n",
    "    return np.moveaxis(Hl, [0,1], [-2,-1])\n",
    "\n",
    "def getBMatrixABC(kx, ky, Dt, mu, xi):\n",
    "    v0 = 0.5 * np.sqrt(3) * g0\n",
    "    v3 = 0.5 * np.sqrt(3) * g3\n",
    "    v4 = 0.5 * np.sqrt(3) * g4\n",
    "    kx, ky = np.asarray(kx), np.asarray(ky)\n",
    "    p = xi * kx + ky * 1j\n",
    "    pc = xi * kx - ky * 1j\n",
    "    idt = np.ones(kx.shape, dtype=float)\n",
    "    Hl = np.array([[(Dt + Dt2 - mu)*idt, v0*pc, -v4*pc, -v3*p, 0*idt, 0.5*g2*idt],\n",
    "                   [v0*p, (Dt + Dt2 + Dtp - mu)*idt, g1*idt, -v4*pc, 0*idt, 0*idt],\n",
    "                   [-v4*p, g1*idt, (-2*Dt2 + Dtp - mu)*idt, v0*pc, -v4*pc, -v3*p],\n",
    "                   [-v3*pc, -v4 * p, v0*p, (-2*Dt2 + Dtp - mu)*idt, g1*idt, -v4*pc],\n",
    "                   [0*idt, 0*idt, -v4*p, g1*idt,(Dt2 - Dt + Dtp - mu)*idt, v0*pc],\n",
    "                   [0.5*g2*idt, 0*idt, -v3*pc, -v4*p, v0*p, (Dt2 - Dt - mu)*idt]])\n",
    "    return np.moveaxis(Hl, [0,1], [-2,-1])\n",
    "\n",
    "def getBMatrixABCA(kx, ky, Dt, mu, xi):\n",
    "    v0 = 0.5 * np.sqrt(3) * g0\n",
    "    v3 = 0.5 * np.sqrt(3) * g3\n",
    "    v4 = 0.5 * np.sqrt(3) * g4\n",
    "    kx, ky = np.asarray(kx), np.asarray(ky)\n",
    "    p =  xi * kx + ky * 1j\n",
    "    pc = xi * kx - ky * 1j\n",
    "    Dt2=0\n",
    "    idt = np.ones(kx.shape, dtype=float)\n",
    "    Hl = np.array([[(Dt + Dt2 - mu)*idt, v0*pc, -v4*pc, -v3*p, 0*idt, 0.5*g2*idt, 0*idt, 0*idt],\n",
    "                   [v0*p, (Dt + Dt2 + Dtp - mu)*idt, g1*idt, -v4*pc, 0*idt, 0*idt, 0*idt, 0*idt],\n",
    "                   [-v4*p, g1*idt, (Dt/3 - Dt3 - Dt2 + Dtp - mu)*idt, v0*pc, -v4*pc, -v3*p, 0*idt, 0.5*g2*idt],\n",
    "                   [-v3*pc, -v4 * p, v0*p, (Dt/3 - Dt3 - Dt2 + Dtp - mu)*idt, g1*idt, -v4*pc, 0*idt, 0*idt],\n",
    "                   [0*idt, 0*idt, -v4*p, g1*idt,(-Dt/3 + Dt3 - Dt2 + Dtp - mu)*idt, v0*pc, -v4*pc, -v3*p],\n",
    "                   [0.5*g2*idt, 0*idt, -v3*pc, -v4*p, v0*p, (-Dt/3 + Dt3 - Dt2 + Dtp - mu)*idt, g1*idt, -v4*pc],\n",
    "                   [0*idt, 0*idt, 0*idt, 0*idt, -v4*p, g1*idt, (Dt2 - Dt + Dtp - mu)*idt, v0*pc],\n",
    "                   [0*idt, 0*idt, 0.5*g2*idt, 0*idt, -v3*pc, -v4*p, v0*p, (Dt2 - Dt - mu)*idt]])\n",
    "    return np.moveaxis(Hl, [0,1], [-2,-1])"
   ]
  },
  {
   "cell_type": "code",
   "execution_count": 57,
   "metadata": {},
   "outputs": [],
   "source": [
    "def getBMatrixABABA(kx, ky, Dt, mu, xi):\n",
    "    v0 = 0.5 * np.sqrt(3) * g0\n",
    "    v3 = 0.5 * np.sqrt(3) * g3\n",
    "    v4 = 0.5 * np.sqrt(3) * g4\n",
    "    kx, ky = np.asarray(kx), np.asarray(ky)\n",
    "    p = xi * kx + ky * 1j\n",
    "    pc = xi * kx - ky * 1j\n",
    "    idt = np.ones(kx.shape, dtype=float)\n",
    "    Dt2 = 0\n",
    "    Hl = np.array([[(Dt + 2*Dt2 - Dt4 - mu)*idt, v0*pc, -v4*pc, -v3*p, 0.5*g2*idt, 0*idt, 0*idt, 0*idt, 0*idt, 0*idt],\n",
    "                   [v0*p, (Dt + 2*Dt2 - Dt4 + Dtp - mu)*idt, g1*idt, -v4*pc, 0*idt, 0.5*g5*idt, 0*idt, 0*idt, 0*idt, 0*idt],\n",
    "                   [-v4*p, g1*idt, (Dt/2 - Dt2 - Dt3 - Dt4 + Dtp - mu)*idt, v0*pc, -v4*p, g1*idt, 0.5*g5*idt, 0*idt, 0*idt, 0*idt],\n",
    "                   [-v3*pc, -v4*p, v0*p, (Dt/2 - Dt2 - Dt3 - Dt4 - mu)*idt, -v3*pc, -v4*p, 0*idt, 0.5*g2*idt, 0*idt, 0*idt],\n",
    "                   [0.5*g2*idt, 0*idt, -v4*pc, -v3*p,(-2*Dt2 + 4*Dt4 - mu)*idt, v0*pc, -v4*pc, -v3*p, 0.5*g2*idt, 0*idt],\n",
    "                   [0*idt, 0.5*g5*idt, g1*idt, -v4*pc, v0*p, (-2*Dt2 + 4*Dt4 + Dtp - mu)*idt, g1*idt, -v4*pc, 0*idt, 0.5*g5*idt],\n",
    "                   [0*idt, 0*idt, 0.5*g5*idt, 0*idt, -v4*p, g1*idt, (-Dt/2 - Dt2 + Dt3 - Dt4 + Dtp - mu)*idt, v0*pc, -v4*p, g1*idt],\n",
    "                   [0*idt, 0*idt, 0*idt, 0.5*g2*idt, -v3*pc, -v4*p, v0*p, (-Dt/2 - Dt2 + Dt3 - Dt4 - mu)*idt, -v3*pc, -v4*p],\n",
    "                   [0*idt, 0*idt, 0*idt, 0*idt, 0.5*g2*idt, 0*idt, -v4*pc, -v3*p, (-Dt + 2*Dt2 - Dt4 - mu)*idt, v0*pc],\n",
    "                   [0*idt, 0*idt, 0*idt, 0*idt, 0*idt, 0.5*g5*idt, g1*idt, -v4*pc, v0*p, (-Dt + 2*Dt2 - Dt4 + Dtp - mu)*idt]])\n",
    "    return np.moveaxis(Hl, [0,1], [-2,-1])\n",
    "\n",
    "def getBMatrixABCAB(kx, ky, Dt, mu, xi):\n",
    "    v0 = 0.5 * np.sqrt(3) * g0\n",
    "    v3 = 0.5 * np.sqrt(3) * g3\n",
    "    v4 = 0.5 * np.sqrt(3) * g4\n",
    "    kx, ky = np.asarray(kx), np.asarray(ky)\n",
    "    p =  xi * kx + ky * 1j\n",
    "    pc = xi * kx - ky * 1j\n",
    "    Dt2=0\n",
    "    idt = np.ones(kx.shape, dtype=float)\n",
    "    Hl = np.array([[(Dt + 2*Dt2 - Dt4 - mu)*idt, v0*pc, -v4*pc, -v3*p, 0*idt, 0.5*g2*idt, 0*idt, 0*idt, 0*idt, 0*idt],\n",
    "                   [v0*p, (Dt + 2*Dt2 - Dt4 + Dtp - mu)*idt, g1*idt, -v4*pc, 0*idt, 0*idt, 0*idt, 0*idt, 0*idt, 0*idt],\n",
    "                   [-v4*p, g1*idt, (Dt/2 - Dt2 - Dt3 - Dt4 + Dtp - mu)*idt, v0*pc, -v4*pc, -v3*p, 0*idt, 0.5*g2*idt, 0*idt, 0*idt],\n",
    "                   [-v3*pc, -v4*p, v0*p, (Dt/2 - Dt2 - Dt3 - Dt4 + Dtp - mu)*idt, g1*idt, -v4*pc, 0*idt, 0*idt, 0*idt, 0*idt],\n",
    "                   [0*idt, 0*idt, -v4*p, g1*idt,(-2*Dt2 + 4*Dt4 + Dtp - mu)*idt, v0*pc, -v4*pc, -v3*p, 0*idt, 0.5*g2*idt],\n",
    "                   [0.5*g2*idt, 0*idt, -v3*pc, -v4*p, v0*p, (-2*Dt2 + 4*Dt4 + Dtp - mu)*idt, g1*idt, -v4*pc, 0*idt, 0*idt],\n",
    "                   [0*idt, 0*idt, 0*idt, 0*idt, -v4*p, g1*idt, (-Dt/2 - Dt2 + Dt3 - Dt4 + Dtp - mu)*idt, v0*pc, -v4*pc, -v3*p],\n",
    "                   [0*idt, 0*idt, 0.5*g2*idt, 0*idt, -v3*pc, -v4*p, v0*p, (-Dt/2 - Dt2 + Dt3 - Dt4 + Dtp - mu)*idt, g1*idt, -v4*pc],\n",
    "                   [0*idt, 0*idt, 0*idt, 0*idt, 0*idt, 0*idt, -v4*p, g1*idt, (-Dt + 2*Dt2 - Dt4 + Dtp - mu)*idt, v0*pc],\n",
    "                   [0*idt, 0*idt, 0*idt, 0*idt, 0.5*g2*idt, 0*idt, -v3*pc, -v4*p, v0*p, (-Dt + 2*Dt2 - Dt4 - mu)*idt]])\n",
    "    return np.moveaxis(Hl, [0,1], [-2,-1])"
   ]
  },
  {
   "cell_type": "code",
   "execution_count": 58,
   "metadata": {},
   "outputs": [],
   "source": [
    "def fsysSel(name):\n",
    "    if name == \"AB\":\n",
    "        return getBMatrixAB\n",
    "    elif name == \"ABA\":\n",
    "        return getBMatrixABA\n",
    "    elif name == \"ABAB\":\n",
    "        return getBMatrixABAB\n",
    "    elif name == \"ABAC\":\n",
    "        return getBMatrixABAC\n",
    "    elif name == \"ABC\":\n",
    "        return getBMatrixABC\n",
    "    elif name == \"ABCA\":\n",
    "        return getBMatrixABCA\n",
    "    elif name == \"ABCAB\":\n",
    "        return getBMatrixABCAB\n",
    "    elif name == \"ABABA\":\n",
    "        return getBMatrixABABA\n",
    "    else:\n",
    "        return None "
   ]
  },
  {
   "cell_type": "code",
   "execution_count": 59,
   "metadata": {},
   "outputs": [
    {
     "data": {
      "text/plain": [
       "array([-392.42611866, -377.1431784 , -362.15924648, -346.7645068 ,\n",
       "        -29.9775671 ,   29.9867435 ,  367.77082622,  383.15459938,\n",
       "        398.13959701,  413.41885132])"
      ]
     },
     "execution_count": 59,
     "metadata": {},
     "output_type": "execute_result"
    }
   ],
   "source": [
    "np.linalg.eigh(getBMatrixABCAB(-0.0002, 0.000346410161513, 30, 0.0, 1))[0]"
   ]
  },
  {
   "cell_type": "markdown",
   "metadata": {},
   "source": [
    "## Code for doing 1D plot"
   ]
  },
  {
   "cell_type": "code",
   "execution_count": 60,
   "metadata": {},
   "outputs": [
    {
     "data": {
      "image/png": "[encoded data removed]",
      "text/plain": [
       "<Figure size 576x360 with 1 Axes>"
      ]
     },
     "metadata": {
      "needs_background": "light"
     },
     "output_type": "display_data"
    }
   ],
   "source": [
    "Delta = 0\n",
    "System = \"ABAC\"\n",
    "kx=np.linspace(-0.15,0.15,600)\n",
    "ky=np.zeros(kx.shape)\n",
    "w,_=np.linalg.eigh(fsysSel(System)(kx, ky, Delta, 0.0, 1))\n",
    "ml.rcParams['figure.figsize'] = (8.0, 5.0)\n",
    "plt.plot(kx,w,'b')\n",
    "plt.ylim([-20,20])\n",
    "plt.xlim([-0.15,0.15])\n",
    "plt.show()"
   ]
  },
  {
   "cell_type": "markdown",
   "metadata": {},
   "source": [
    "## Comparing two systems in 1D plot"
   ]
  },
  {
   "cell_type": "code",
   "execution_count": 11,
   "metadata": {},
   "outputs": [
    {
     "data": {
      "image/png": "[encoded data removed]",
      "text/plain": [
       "<Figure size 576x360 with 1 Axes>"
      ]
     },
     "metadata": {
      "needs_background": "light"
     },
     "output_type": "display_data"
    }
   ],
   "source": [
    "Delta = 120\n",
    "System1 = \"ABCA\"\n",
    "System2 = \"ABCAB\"\n",
    "kx=np.linspace(-0.15,0.15,600)\n",
    "ky=np.zeros(kx.shape)\n",
    "w1,_=np.linalg.eigh(fsysSel(System1)(kx, ky, Delta, 0.0, 1))\n",
    "w2,_=np.linalg.eigh(fsysSel(System2)(kx, ky, Delta, 0.0, 1))\n",
    "ml.rcParams['figure.figsize'] = (8.0, 5.0)\n",
    "plt.plot(kx,w1,'b')\n",
    "plt.plot(kx,w2,'r')\n",
    "plt.ylim([-400,400])\n",
    "plt.xlim([-0.15,0.15])\n",
    "plt.show()"
   ]
  },
  {
   "cell_type": "markdown",
   "metadata": {},
   "source": [
    "## Code for getting Fermi surfaces"
   ]
  },
  {
   "cell_type": "code",
   "execution_count": 31,
   "metadata": {},
   "outputs": [],
   "source": [
    "Delta = 20\n",
    "System = \"ABCA\"\n",
    "Nl = len(System)\n",
    "kr = np.linspace(-0.15,0.15, 600)\n",
    "KX, KY = np.meshgrid(kr, kr)\n",
    "w, v = np.linalg.eigh(fsysSel(System)(KX, KY, Delta, 0.0, 1))"
   ]
  },
  {
   "cell_type": "code",
   "execution_count": 32,
   "metadata": {},
   "outputs": [
    {
     "data": {
      "image/png": "[encoded data removed]",
      "text/plain": [
       "<Figure size 360x360 with 1 Axes>"
      ]
     },
     "metadata": {
      "needs_background": "light"
     },
     "output_type": "display_data"
    }
   ],
   "source": [
    "mu = 30\n",
    "ml.rcParams['figure.figsize'] = (5.0, 5.0)\n",
    "ml.rcParams['contour.negative_linestyle']= 'solid'\n",
    "fig, ax= plt.subplots(1,1)\n",
    "if np.any(w[:,:,Nl]<mu):\n",
    "    ax.contour(KX, KY, w[:,:,Nl],[mu],colors='b')\n",
    "if np.any(w[:,:,Nl+1]<mu):\n",
    "    ax.contour(KX, KY, w[:,:,Nl+1],[mu],colors='r')\n",
    "if np.any(w[:,:,Nl-1]>mu):\n",
    "    ax.contour(KX, KY, w[:,:,Nl-1],[mu],colors='k')\n",
    "if np.any(w[:,:,Nl-2]>mu):\n",
    "    ax.contour(KX, KY, w[:,:,Nl-2],[mu],colors='g')\n",
    "ax.set_xlim([-0.15,0.15])\n",
    "ax.set_ylim([-0.15,0.15])\n",
    "ax.set_xlabel(r'$k_xa$')\n",
    "ax.set_ylabel(r'$k_ya$')\n",
    "ax.set(adjustable='box', aspect='equal')\n",
    "plt.tight_layout()\n",
    "plt.show()"
   ]
  },
  {
   "cell_type": "code",
   "execution_count": null,
   "metadata": {},
   "outputs": [],
   "source": []
  }
 ],
 "metadata": {
  "kernelspec": {
   "display_name": "Python 3",
   "language": "python",
   "name": "python3"
  },
  "language_info": {
   "codemirror_mode": {
    "name": "ipython",
    "version": 3
   },
   "file_extension": ".py",
   "mimetype": "text/x-python",
   "name": "python",
   "nbconvert_exporter": "python",
   "pygments_lexer": "ipython3",
   "version": "3.9.7"
  }
 },
 "nbformat": 4,
 "nbformat_minor": 4
}
